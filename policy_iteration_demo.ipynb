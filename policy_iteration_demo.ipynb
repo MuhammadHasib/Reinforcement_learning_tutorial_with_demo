{
 "cells": [
  {
   "cell_type": "code",
   "execution_count": 1,
   "metadata": {},
   "outputs": [
    {
     "name": "stdout",
     "output_type": "stream",
     "text": [
      "rewards:\n",
      "---------------------------\n",
      "-0.10|-0.10|-0.10| 1.00|\n",
      "---------------------------\n",
      "-0.10| 0.00|-0.10|-1.00|\n",
      "---------------------------\n",
      "-0.10|-0.10|-0.10|-0.10|\n"
     ]
    }
   ],
   "source": [
    "# Adapted from: https://github.com/lazyprogrammer/machine_learning_examples/tree/master/rl\n",
    "import numpy as np\n",
    "from gridWorldGame import standard_grid, negative_grid,print_values, print_policy\n",
    "\n",
    "SMALL_ENOUGH = 1e-3\n",
    "GAMMA = 0.9\n",
    "ALL_POSSIBLE_ACTIONS = ('U', 'D', 'L', 'R')\n",
    "# this grid gives you a reward of -0.1\n",
    "# to find a shorter path to the goal, use negative grid\n",
    "grid = negative_grid()\n",
    "print(\"rewards:\")\n",
    "print_values(grid.rewards, grid)"
   ]
  },
  {
   "cell_type": "code",
   "execution_count": 2,
   "metadata": {},
   "outputs": [],
   "source": [
    "# state -> action\n",
    "# choose an action and update randomly \n",
    "policy = {}\n",
    "for s in grid.actions.keys():\n",
    "  policy[s] = np.random.choice(ALL_POSSIBLE_ACTIONS)"
   ]
  },
  {
   "cell_type": "code",
   "execution_count": 3,
   "metadata": {},
   "outputs": [
    {
     "name": "stdout",
     "output_type": "stream",
     "text": [
      "initial policy:\n",
      "---------------------------\n",
      "  U  |  D  |  L  |     |\n",
      "---------------------------\n",
      "  D  |     |  L  |     |\n",
      "---------------------------\n",
      "  R  |  D  |  D  |  L  |\n"
     ]
    }
   ],
   "source": [
    "# initial policy\n",
    "print(\"initial policy:\")\n",
    "print_policy(policy, grid)"
   ]
  },
  {
   "cell_type": "code",
   "execution_count": 4,
   "metadata": {},
   "outputs": [
    {
     "name": "stdout",
     "output_type": "stream",
     "text": [
      "{(0, 0): 0.2818694639707592, (1, 3): 0, (2, 1): 0.9183214593286756, (2, 3): 0.30517014146504584, (1, 0): 0.9205004705594811, (0, 3): 0, (0, 1): 0.7833068871531507, (1, 2): 0.9302380077181677, (2, 0): 0.44834917866585944, (2, 2): 0.3130960249430351, (0, 2): 0.2142939260425546}\n",
      "---------------------------\n",
      " 0.28| 0.78| 0.21| 0.00|\n",
      "---------------------------\n",
      " 0.92| 0.00| 0.93| 0.00|\n",
      "---------------------------\n",
      " 0.45| 0.92| 0.31| 0.31|\n"
     ]
    }
   ],
   "source": [
    "# initialize V(s) - value function\n",
    "V = {}\n",
    "states = grid.all_states()\n",
    "for s in states:\n",
    "  # V[s] = 0\n",
    "  if s in grid.actions:\n",
    "    V[s] = np.random.random()\n",
    "  else:\n",
    "    # terminal state\n",
    "    V[s] = 0\n",
    "\n",
    "# initial value for all states in grid\n",
    "print(V)\n",
    "print_values(V, grid)"
   ]
  },
  {
   "cell_type": "code",
   "execution_count": 5,
   "metadata": {},
   "outputs": [
    {
     "name": "stdout",
     "output_type": "stream",
     "text": [
      "values 1: \n",
      "---------------------------\n",
      " 0.28| 0.78| 0.21| 0.00|\n",
      "---------------------------\n",
      " 0.92| 0.00| 0.93| 0.00|\n",
      "---------------------------\n",
      " 0.45| 0.92| 0.31| 0.31|\n",
      "policy 1: \n",
      "---------------------------\n",
      "  U  |  D  |  L  |     |\n",
      "---------------------------\n",
      "  D  |     |  L  |     |\n",
      "---------------------------\n",
      "  R  |  D  |  D  |  L  |\n",
      "values 2: \n",
      "---------------------------\n",
      "-0.99|-0.99|-0.99| 0.00|\n",
      "---------------------------\n",
      "-0.99| 0.00|-0.99| 0.00|\n",
      "---------------------------\n",
      "-0.99|-0.99|-0.99|-0.99|\n",
      "policy 2: \n",
      "---------------------------\n",
      "  R  |  U  |  R  |     |\n",
      "---------------------------\n",
      "  D  |     |  L  |     |\n",
      "---------------------------\n",
      "  R  |  U  |  U  |  D  |\n",
      "values 3: \n",
      "---------------------------\n",
      "-0.99|-0.99| 1.00| 0.00|\n",
      "---------------------------\n",
      "-0.99| 0.00|-0.99| 0.00|\n",
      "---------------------------\n",
      "-0.99|-0.99|-0.99|-1.00|\n",
      "policy 3: \n",
      "---------------------------\n",
      "  U  |  R  |  R  |     |\n",
      "---------------------------\n",
      "  U  |     |  U  |     |\n",
      "---------------------------\n",
      "  R  |  U  |  U  |  L  |\n",
      "values 4: \n",
      "---------------------------\n",
      "-1.00| 0.80| 1.00| 0.00|\n",
      "---------------------------\n",
      "-1.00| 0.00| 0.80| 0.00|\n",
      "---------------------------\n",
      "-1.00|-0.99| 0.62| 0.46|\n",
      "policy 4: \n",
      "---------------------------\n",
      "  R  |  R  |  R  |     |\n",
      "---------------------------\n",
      "  U  |     |  U  |     |\n",
      "---------------------------\n",
      "  R  |  R  |  U  |  L  |\n",
      "values 5: \n",
      "---------------------------\n",
      " 0.62| 0.80| 1.00| 0.00|\n",
      "---------------------------\n",
      " 0.46| 0.00| 0.80| 0.00|\n",
      "---------------------------\n",
      " 0.31| 0.46| 0.62| 0.46|\n",
      "policy 5: \n",
      "---------------------------\n",
      "  R  |  R  |  R  |     |\n",
      "---------------------------\n",
      "  U  |     |  U  |     |\n",
      "---------------------------\n",
      "  U  |  R  |  U  |  L  |\n"
     ]
    }
   ],
   "source": [
    "iteration=0\n",
    "# repeat until convergence\n",
    "# when policy does not change, it will finish\n",
    "while True:\n",
    "  iteration+=1\n",
    "  print(\"values %d: \" % iteration)\n",
    "  print_values(V, grid)\n",
    "  print(\"policy %d: \" % iteration)\n",
    "  print_policy(policy, grid)\n",
    "\n",
    "  # policy evaluation step\n",
    "  while True:\n",
    "    biggest_change = 0\n",
    "    for s in states:\n",
    "      old_v = V[s]\n",
    "\n",
    "      # V(s) only has value if it's not a terminal state\n",
    "      if s in policy:\n",
    "        a = policy[s]\n",
    "        grid.set_state(s)\n",
    "        r = grid.move(a) #reward\n",
    "        V[s] = r + GAMMA * V[grid.current_state()]\n",
    "        biggest_change = max(biggest_change, np.abs(old_v - V[s]))\n",
    "\n",
    "    if biggest_change < SMALL_ENOUGH:\n",
    "      break\n",
    "\n",
    "  # policy improvement step\n",
    "  is_policy_converged = True\n",
    "  for s in states:\n",
    "    if s in policy:\n",
    "      old_a = policy[s]\n",
    "      new_a = None\n",
    "      best_value = float('-inf')\n",
    "      # loop through all possible actions to find the best current action\n",
    "      for a in ALL_POSSIBLE_ACTIONS:\n",
    "        grid.set_state(s)\n",
    "        r = grid.move(a)\n",
    "        v = r + GAMMA * V[grid.current_state()]\n",
    "        if v > best_value:\n",
    "          best_value = v\n",
    "          new_a = a\n",
    "      policy[s] = new_a\n",
    "      if new_a != old_a:\n",
    "        is_policy_converged = False\n",
    "\n",
    "  if is_policy_converged:\n",
    "    break"
   ]
  },
  {
   "cell_type": "code",
   "execution_count": 6,
   "metadata": {},
   "outputs": [
    {
     "name": "stdout",
     "output_type": "stream",
     "text": [
      "final values:\n",
      "---------------------------\n",
      " 0.62| 0.80| 1.00| 0.00|\n",
      "---------------------------\n",
      " 0.46| 0.00| 0.80| 0.00|\n",
      "---------------------------\n",
      " 0.31| 0.46| 0.62| 0.46|\n",
      "final policy:\n",
      "---------------------------\n",
      "  R  |  R  |  R  |     |\n",
      "---------------------------\n",
      "  U  |     |  U  |     |\n",
      "---------------------------\n",
      "  U  |  R  |  U  |  L  |\n"
     ]
    }
   ],
   "source": [
    "print(\"final values:\")\n",
    "print_values(V, grid)\n",
    "print(\"final policy:\")\n",
    "print_policy(policy, grid)"
   ]
  },
  {
   "cell_type": "code",
   "execution_count": null,
   "metadata": {},
   "outputs": [],
   "source": []
  }
 ],
 "metadata": {
  "kernelspec": {
   "display_name": "Python 3",
   "language": "python",
   "name": "python3"
  },
  "language_info": {
   "codemirror_mode": {
    "name": "ipython",
    "version": 3
   },
   "file_extension": ".py",
   "mimetype": "text/x-python",
   "name": "python",
   "nbconvert_exporter": "python",
   "pygments_lexer": "ipython3",
   "version": "3.7.2"
  }
 },
 "nbformat": 4,
 "nbformat_minor": 1
}
